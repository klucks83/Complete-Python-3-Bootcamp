{
 "cells": [
  {
   "cell_type": "markdown",
   "metadata": {},
   "source": [
    "___\n",
    "\n",
    "<a href='https://www.udemy.com/user/joseportilla/'><img src='../../Pierian_Data_Logo.png'/></a>\n",
    "___\n",
    "<center><em>Content Copyright by Pierian Data</em></center>"
   ]
  },
  {
   "cell_type": "markdown",
   "metadata": {},
   "source": [
    "# Advanced Modules Exercise Solutions\n",
    "\n",
    "It's time to test your new skills, this puzzle project will combine multiple skills sets, including unzipping files with Python, using os module to automatically search through lots of files.\n",
    "\n",
    "## Your Goal\n",
    "\n",
    "This is a puzzle, so we don't want to give you too much guidance and instead have you figure out things on your own.\n",
    "\n",
    "There is a .zip file called 'unzip_me_for_instructions.zip', unzip it, open the .txt file with Python, read the instructions and see if you can figure out what you need to do!\n",
    "\n",
    "**If you get stuck or don't know where to start, here is a [guide/hints](https://docs.google.com/document/d/1JxydUr4n4fSR0EwwuwT-aHia-yPK6r-oTBuVT2sqheo/edit?usp=sharing)**"
   ]
  },
  {
   "cell_type": "markdown",
   "metadata": {},
   "source": [
    "## Step 1: Unzipping the File\n",
    "\n",
    "We can easily use the shutil library to extract and unzip the contents of the .zip file"
   ]
  },
  {
   "cell_type": "code",
   "execution_count": 1,
   "metadata": {
    "collapsed": true
   },
   "outputs": [],
   "source": [
    "import shutil"
   ]
  },
  {
   "cell_type": "code",
   "execution_count": 3,
   "metadata": {
    "collapsed": true
   },
   "outputs": [],
   "source": [
    "shutil.unpack_archive('unzip_me_for_instructions.zip','','zip')\n",
    "#unzip file, to current path, zip type"
   ]
  },
  {
   "cell_type": "markdown",
   "metadata": {},
   "source": [
    "## Step 2: Read the instructions file\n",
    "\n",
    "Let's figure out what we need to do, open the instructions.txt file."
   ]
  },
  {
   "cell_type": "code",
   "execution_count": 4,
   "metadata": {},
   "outputs": [
    {
     "name": "stdout",
     "output_type": "stream",
     "text": [
      "Good work on unzipping the file!\n",
      "You should now see 5 folders, each with a lot of random .txt files.\n",
      "Within one of these text files is a telephone number formated ###-###-#### \n",
      "Use the Python os module and regular expressions to iterate through each file, open it, and search for a telephone number.\n",
      "Good luck!\n"
     ]
    }
   ],
   "source": [
    "with open('extracted_content/Instructions.txt') as f:\n",
    "    content = f.read()\n",
    "    print(content)"
   ]
  },
  {
   "cell_type": "markdown",
   "metadata": {},
   "source": [
    "## Step 3: Regular Expression to Find the Link\n",
    "\n",
    "There are many approaches to take here, but since we know we are looking for a phone number, there should be a digits in the form ###-###-####, so we can easily create a regex expression for this and test it. Once its tested and working, we can figure out how to run it through all the txt documents."
   ]
  },
  {
   "cell_type": "code",
   "execution_count": 10,
   "metadata": {
    "collapsed": true
   },
   "outputs": [],
   "source": [
    "import re"
   ]
  },
  {
   "cell_type": "code",
   "execution_count": 11,
   "metadata": {
    "collapsed": true
   },
   "outputs": [],
   "source": [
    "pattern = r'\\d{3}-\\d{3}-\\d{4}'"
   ]
  },
  {
   "cell_type": "code",
   "execution_count": 12,
   "metadata": {
    "collapsed": true
   },
   "outputs": [],
   "source": [
    "test_string = \"here is a random number 1231231234 , here is phone number formatted 123-123-1234\""
   ]
  },
  {
   "cell_type": "code",
   "execution_count": 13,
   "metadata": {},
   "outputs": [
    {
     "data": {
      "text/plain": [
       "['123-123-1234']"
      ]
     },
     "execution_count": 13,
     "metadata": {},
     "output_type": "execute_result"
    }
   ],
   "source": [
    "re.findall(pattern,test_string)"
   ]
  },
  {
   "cell_type": "markdown",
   "metadata": {},
   "source": [
    "## Step 4: Create a function for regex\n",
    "\n",
    "Let's put this inside a function that applies it to the contents of a .txt file, this way we can apply this function to all the txt files in the extracted_content folder."
   ]
  },
  {
   "cell_type": "code",
   "execution_count": 14,
   "metadata": {
    "collapsed": true
   },
   "outputs": [],
   "source": [
    "def search(file,pattern= r'\\d{3}-\\d{3}-\\d{4}'):\n",
    "    f = open(file,'r')\n",
    "    text = f.read()\n",
    "    \n",
    "    if re.search(pattern,text):\n",
    "        return re.search(pattern,text)\n",
    "    else:\n",
    "        return ''"
   ]
  },
  {
   "cell_type": "markdown",
   "metadata": {},
   "source": [
    "## Step 5: OS Walk through the Files to Get the Link\n",
    "\n",
    "Now that we have a basic function to search through the text of the files, let's perform an os.walk through the unzipped directory to find the links hidden somewhere in one of the text files."
   ]
  },
  {
   "cell_type": "code",
   "execution_count": 23,
   "metadata": {
    "collapsed": true
   },
   "outputs": [],
   "source": [
    "import os"
   ]
  },
  {
   "cell_type": "code",
   "execution_count": 27,
   "metadata": {},
   "outputs": [
    {
     "data": {
      "text/plain": [
       "[('/Users/klucks83/workspace/python-pierian/Complete-Python-3-Bootcamp/12-Advanced Python Modules/08-Advanced-Python-Module-Exercise/extracted_content',\n",
       "  ['Three', 'One', 'Two', 'Five', 'Four'],\n",
       "  ['Instructions.txt']),\n",
       " ('/Users/klucks83/workspace/python-pierian/Complete-Python-3-Bootcamp/12-Advanced Python Modules/08-Advanced-Python-Module-Exercise/extracted_content/Three',\n",
       "  [],\n",
       "  ['VSXFSTABZDY.txt',\n",
       "   'YDQFMWXOUMW.txt',\n",
       "   'YQBIUHSUEVW.txt',\n",
       "   'XAJMCPEWFNI.txt',\n",
       "   'ZXEZRQXZNPG.txt',\n",
       "   'ZKQJXAYKPVD.txt',\n",
       "   'XVMPVSVYKFR.txt',\n",
       "   'XHZPVUQTXIO.txt',\n",
       "   'YYIZGBTQHZP.txt',\n",
       "   'VCFJCGJFBIH.txt',\n",
       "   'VVHFVZUNLOO.txt',\n",
       "   'VVKGWLRMHLU.txt',\n",
       "   'XJCWENFFGHB.txt',\n",
       "   'XFHJOTNPEJG.txt',\n",
       "   'ZOWVXWPOGWP.txt',\n",
       "   'ZXIBJMPROKW.txt',\n",
       "   'VAQIJTDOFUJ.txt',\n",
       "   'YCESZHJDBXH.txt',\n",
       "   'YQRNCMNFFHW.txt',\n",
       "   'ZEZKKRBIZEB.txt']),\n",
       " ('/Users/klucks83/workspace/python-pierian/Complete-Python-3-Bootcamp/12-Advanced Python Modules/08-Advanced-Python-Module-Exercise/extracted_content/One',\n",
       "  [],\n",
       "  ['LFEATJAAYDC.txt',\n",
       "   'KCXGNQCZBLO.txt',\n",
       "   'KFIUZFERLET.txt',\n",
       "   'LIFDHOFKWOI.txt',\n",
       "   'HRQFTHKVJTL.txt',\n",
       "   'PLYCGPVEAWO.txt',\n",
       "   'JEHBLZPUPSP.txt',\n",
       "   'PDJMSMNKIRM.txt',\n",
       "   'LPNDVDXPZIG.txt',\n",
       "   'HMNZTLIFGPD.txt',\n",
       "   'KNBSKDREHQU.txt',\n",
       "   'KTXDHIOKAUI.txt',\n",
       "   'JQUOBKFUACN.txt',\n",
       "   'HFUTPPAXDIS.txt',\n",
       "   'PTOBBCJYURJ.txt',\n",
       "   'LHODFIKVTQA.txt',\n",
       "   'JLTXKIGCWDL.txt',\n",
       "   'HDOHZHFSTTK.txt',\n",
       "   'KMMLGJOWLGI.txt',\n",
       "   'JDLRVFCXYLU.txt',\n",
       "   'PHWAVPEKAER.txt',\n",
       "   'LDGOCUQJNNS.txt',\n",
       "   'JTHSNBNPQSE.txt',\n",
       "   'HVUTZEVMSBW.txt',\n",
       "   'PQNVCVJINAR.txt']),\n",
       " ('/Users/klucks83/workspace/python-pierian/Complete-Python-3-Bootcamp/12-Advanced Python Modules/08-Advanced-Python-Module-Exercise/extracted_content/Two',\n",
       "  [],\n",
       "  ['HEORIXOTANT.txt',\n",
       "   'SOFUJYXTIMK.txt',\n",
       "   'HMZXPBOPRAE.txt',\n",
       "   'OMWIMVRCMYM.txt',\n",
       "   'OHZOUOSFJQC.txt',\n",
       "   'OKWFOOYTXFU.txt',\n",
       "   'LVMBINRBJXL.txt',\n",
       "   'LSQSTGPIGIY.txt',\n",
       "   'OIHMLGMWTHL.txt',\n",
       "   'GQTJJORZBXY.txt',\n",
       "   'HARDNJGDRBC.txt',\n",
       "   'OYMAGXAGWHJ.txt',\n",
       "   'HMUTDOVNYTV.txt',\n",
       "   'LYZEQCVYNEZ.txt',\n",
       "   'GMMQQUBMJNR.txt',\n",
       "   'GTOTCIWMDBY.txt',\n",
       "   'LULTNYAQEJG.txt',\n",
       "   'HTOHSTYXTCO.txt',\n",
       "   'SJMJLDGPBSJ.txt',\n",
       "   'LCJZYDHBFRM.txt',\n",
       "   'SPDZYGDHEWO.txt',\n",
       "   'SIKFPPLCJDN.txt',\n",
       "   'GXYSEPAFRTP.txt',\n",
       "   'SWOFXREEHWA.txt',\n",
       "   'GKQBQRCTNNK.txt']),\n",
       " ('/Users/klucks83/workspace/python-pierian/Complete-Python-3-Bootcamp/12-Advanced Python Modules/08-Advanced-Python-Module-Exercise/extracted_content/Five',\n",
       "  [],\n",
       "  ['ESIZWBHMGDP.txt',\n",
       "   'BUGKBZWRRVI.txt',\n",
       "   'ARLKFCWIAJE.txt',\n",
       "   'EYTCGIOYWIW.txt',\n",
       "   'APJKSRITGGX.txt',\n",
       "   'AXJGVPVEFAS.txt',\n",
       "   'CSCLFZCDYYC.txt',\n",
       "   'CAHBEVSVDDN.txt',\n",
       "   'BVBURZZCAPR.txt',\n",
       "   'ETCUEXWNBCF.txt',\n",
       "   'CRFSDGYFSHA.txt',\n",
       "   'DYOPIIVMZOO.txt',\n",
       "   'DDLASODUVPX.txt',\n",
       "   'CXBVCTRBBIE.txt',\n",
       "   'COMGMZBJAYE.txt',\n",
       "   'EAAOEPSAWMQ.txt',\n",
       "   'DZUWWXYIAEL.txt',\n",
       "   'EIPWXMQZJKU.txt',\n",
       "   'DHZBAAYEADM.txt',\n",
       "   'BSKJDRNEZQM.txt',\n",
       "   'AQKATDFGXTS.txt',\n",
       "   'BTYWAHLHKBM.txt',\n",
       "   'AEITMYIRQLP.txt',\n",
       "   'BNUQEHCFRTG.txt',\n",
       "   'DQPZQLBCJYP.txt']),\n",
       " ('/Users/klucks83/workspace/python-pierian/Complete-Python-3-Bootcamp/12-Advanced Python Modules/08-Advanced-Python-Module-Exercise/extracted_content/Four',\n",
       "  [],\n",
       "  ['WHTOHQUWXIN.txt',\n",
       "   'QDDETWBHJYC.txt',\n",
       "   'WNJISWPEBRS.txt',\n",
       "   'WFSKPTXPFCH.txt',\n",
       "   'EMTGPSXQEJX.txt',\n",
       "   'TWUOYFCCYBQ.txt',\n",
       "   'QTDYYIFPHAU.txt',\n",
       "   'TAKNAVDMZKV.txt',\n",
       "   'RYNXFYXMKHG.txt',\n",
       "   'ROICPTWKXDX.txt',\n",
       "   'QCWCFLKNZMN.txt',\n",
       "   'EXVQSVBQQQH.txt',\n",
       "   'THPNEGKTJWI.txt',\n",
       "   'TJFMLJODVAD.txt',\n",
       "   'QCTCKDIBBVG.txt',\n",
       "   'TKCZSFQNJTX.txt',\n",
       "   'WXDJDOGZEHN.txt',\n",
       "   'QVNJULGXNUM.txt',\n",
       "   'RSXOTNGKBML.txt',\n",
       "   'EPRNUHRSESC.txt',\n",
       "   'ECIOBYCDVFI.txt',\n",
       "   'RXDARIDGKBF.txt',\n",
       "   'REAXWSOIQDY.txt',\n",
       "   'WYDLGSGGXKV.txt',\n",
       "   'ESDIZXHYCVY.txt'])]"
      ]
     },
     "execution_count": 27,
     "metadata": {},
     "output_type": "execute_result"
    }
   ],
   "source": [
    "list(os.walk(os.getcwd()+\"/extracted_content\"))"
   ]
  },
  {
   "cell_type": "code",
   "execution_count": 21,
   "metadata": {
    "collapsed": true
   },
   "outputs": [
    {
     "name": "stdout",
     "output_type": "stream",
     "text": [
      "['', '', '', '', '', '', '', '', '', '', '', '', '', '', '', '', '', '', '', '', '', '', '', '', '', '', '', '', '', '', '', '', '', '', '', '', '', '', '', '', '', '', '', '', '', '', '', '', '', '', '', '', '', '', '', '', '', '', '', '', '', '', '', '', '', '', '', '', '', '', '', '', '', '', '', '', '', '', '', '', '', '', '', '', '', '', '', '', '', '', '', '', '', '', '', '', '', '', '', '', <re.Match object; span=(1062, 1074), match='719-266-2837'>, '', '', '', '', '', '', '', '', '', '', '', '', '', '', '', '', '', '', '', '']\n"
     ]
    }
   ],
   "source": [
    "results = []\n",
    "for folder , sub_folders , files in os.walk(os.getcwd()+\"/extracted_content\"):\n",
    "    \n",
    "    for f in files:\n",
    "        \n",
    "        full_path = folder+'/'+f\n",
    "         \n",
    "        results.append(search(full_path)) \n",
    "print(results)"
   ]
  },
  {
   "cell_type": "code",
   "execution_count": 22,
   "metadata": {},
   "outputs": [
    {
     "name": "stdout",
     "output_type": "stream",
     "text": [
      "719-266-2837\n"
     ]
    }
   ],
   "source": [
    "for r in results:\n",
    "    if r != '':\n",
    "        print(r.group())"
   ]
  },
  {
   "cell_type": "markdown",
   "metadata": {},
   "source": [
    "___\n",
    "Excellent work! More information on this phone number:\n",
    "* https://www.npr.org/2011/12/21/144069758/callin-oates-the-hotline-you-dont-need-but-might-call-anyway\n",
    "* https://twitter.com/CallinOates"
   ]
  },
  {
   "cell_type": "markdown",
   "metadata": {},
   "source": []
  }
 ],
 "metadata": {
  "anaconda-cloud": {},
  "kernelspec": {
   "display_name": "Python 3",
   "language": "python",
   "name": "python3"
  },
  "language_info": {
   "codemirror_mode": {
    "name": "ipython",
    "version": 3
   },
   "file_extension": ".py",
   "mimetype": "text/x-python",
   "name": "python",
   "nbconvert_exporter": "python",
   "pygments_lexer": "ipython3",
   "version": "3.11.7"
  }
 },
 "nbformat": 4,
 "nbformat_minor": 2
}

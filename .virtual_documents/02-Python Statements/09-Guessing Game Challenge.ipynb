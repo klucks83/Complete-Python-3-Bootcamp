


























while True:
    
    pass





while True:

    # we can copy the code from above to take an input

    pass







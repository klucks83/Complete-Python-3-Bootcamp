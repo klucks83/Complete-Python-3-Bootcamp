





%%writefile test.txt
Hello, this is a quick test file.
line 2
line 3





myfile = open('whoops.txt')





pwd





# Open the text.txt we made earlier
my_file = open('/Users/klucks83/workspace/python-pierian/Complete-Python-3-Bootcamp/00-Python Object and Data Structure Basics/test.txt')


# We can now read the file
my_file.read()


# But what happens if we try to read it again?
my_file.read()





# Seek to the start of file (index 0)
my_file.seek(0)


# Now read again
my_file.read()





# Readlines returns a list of the lines in the file
my_file.seek(0)
my_file.readlines()





my_file.close()





# Add a second argument to the function, 'w' which stands for write.
# Passing 'w+' lets us read and write to the file

my_file = open('test.txt','w+')





# Write to the file
my_file.write('This is a new line')


# Read the file
my_file.seek(0)
my_file.read()


my_file.close()  # always do this when you're done with a file





my_file = open('test.txt','a+')
my_file.write('\nThis is text being appended to test.txt')
my_file.write('\nAnd another line here.')


my_file.seek(0)
print(my_file.read())


my_file.close()





%%writefile -a test.txt

This is text being appended to test.txt
And another line here.








%%writefile test.txt
First Line
Second Line





for line in open('test.txt'):
    print(line)





# Pertaining to the first point above
for asdf in open('test.txt'):
    print(asdf)





with open('test.txt',mode='a') as myfile:
    contents = myfile.read()




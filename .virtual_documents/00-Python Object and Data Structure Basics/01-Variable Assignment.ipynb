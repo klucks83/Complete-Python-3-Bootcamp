








my_dogs = 2


my_dogs


my_dogs = ['Sammy', 'Frankie']


my_dogs








a = 5


a





a = 10


a





a + a





a = a + 10


a





a += 10


a


a *= 2


a


type(a)


a = 1.3


type(a)





type(a)


a = (1,2)


type(a)





my_income = 100
tax_rate = 0.1
my_taxes = my_income * tax_rate


my_taxes




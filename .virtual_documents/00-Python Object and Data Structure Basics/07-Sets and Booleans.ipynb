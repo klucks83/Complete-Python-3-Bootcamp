





x = set()


# We add to sets with the add() method
x.add(1)


#Show
x





# Add a different element
x.add(2)


#Show
x


# Try to add the same element
x.add(1)


#Show
x





# Create a list with repeats
list1 = [1,1,2,2,3,4,5,6,1,1]


# Cast as set to get unique values
set(list1)





# Set object to be a boolean
a = True


#Show
a





# Output is boolean
1 > 2





# None placeholder
b = None


# Show
print(b)







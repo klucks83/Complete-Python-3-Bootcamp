





























# Square root:



# Square:









s = 'hello'
# Print out 'e' using indexing







s ='hello'
# Reverse the string using slicing







s ='hello'
# Print out the 'o'

# Method 1:




# Method 2:










# Method 1:



# Method 2:






list3 = [1,2,[3,4,'hello']]







list4 = [5,3,4,6,1]










d = {'simple_key':'hello'}
# Grab 'hello'



d = {'k1':{'k2':'hello'}}
# Grab 'hello'



# Getting a little tricker
d = {'k1':[{'nest_key':['this is deep',['hello']]}]}

#Grab hello



# This will be hard and annoying!
d = {'k1':[1,2,{'k2':['this is tricky',{'tough':[1,2,['hello']]}]}]}























list5 = [1,2,2,33,4,4,11,22,3,3,2]














# Answer before running cell
2 > 3


# Answer before running cell
3 <= 2


# Answer before running cell
3 == 2.0


# Answer before running cell
3.0 == 3


# Answer before running cell
4**0.5 != 2





# two nested lists
l_one = [1,2,[3,4]]
l_two = [1,2,{'k1':4}]

# True or False?
l_one[2][0] >= l_two[2]['k1']




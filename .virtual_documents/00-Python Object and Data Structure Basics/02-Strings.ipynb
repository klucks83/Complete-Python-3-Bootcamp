











# Single word
'hello'


# Entire phrase 
'This is also a string'


# We can also use double quote
"String built with double quotes"


# Be careful with quotes!
' I'm using single quotes, but this will create an error'





"Now I'm ready to use the single quotes inside a string!"








# We can simply declare a string
'Hello World'


# Note that we can't output multiple strings this way
'Hello World 1'
'Hello World 2'





print('Hello World 1')
print('Hello World 2')
print('Use \n to print a new line')
print('\n')
print('See what I mean?')








len('Hello World')








# Assign s as a string
s = 'Hello World'


#Check
s


# Print the object
print(s) 





# Show first element (in this case a letter)
s[0]


s[1]


s[2]





# Grab everything past the first term all the way to the length of s which is len(s)
s[1:]


# Note that there is no change to the original s
s


# Grab everything UP TO the 3rd index
s[:3]





#Everything
s[:]





# Last letter (one index behind 0 so it loops back around)
s[-1]


# Grab everything but the last letter
s[:-1]





# Grab everything, but go in steps size of 1
s[::1]


# Grab everything, but go in step sizes of 2
s[::2]


# We can use this to print a string backwards
s[::-1]





s


# Let's try to change the first letter to 'x'
s[0] = 'x'





s


# Concatenate strings!
s + ' concatenate me!'


# We can reassign s completely though!
s = s + ' concatenate me!'


print(s)


s





letter = 'z'


letter*10





s


# Upper Case a string
s.upper()


# Lower case
s.lower()


# Split a string by blank space (this is the default)
s.split()


# Split by a specific element (doesn't include the element that was split on)
s.split('W')








'Insert another string with curly brackets: {}'.format('The inserted string')







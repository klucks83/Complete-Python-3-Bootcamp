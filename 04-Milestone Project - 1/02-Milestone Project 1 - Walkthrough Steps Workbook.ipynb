{
 "cells": [
  {
   "cell_type": "markdown",
   "metadata": {},
   "source": [
    "___\n",
    "\n",
    "<a href='https://www.udemy.com/user/joseportilla/'><img src='../Pierian_Data_Logo.png'/></a>\n",
    "___\n",
    "<center><em>Content Copyright by Pierian Data</em></center>"
   ]
  },
  {
   "cell_type": "markdown",
   "metadata": {},
   "source": [
    "# Milestone Project 1: Walkthrough Steps Workbook\n",
    "\n",
    "Below is a set of steps for you to follow to try to create the Tic Tac Toe Milestone Project game!"
   ]
  },
  {
   "cell_type": "markdown",
   "metadata": {},
   "source": [
    "#### Some suggested tools before you get started:\n",
    "To take input from a user:\n",
    "\n",
    "    player1 = input(\"Please pick a marker 'X' or 'O'\")\n",
    "    \n",
    "Note that input() takes in a string. If you need an integer value, use\n",
    "\n",
    "    position = int(input('Please enter a number'))\n",
    "    \n",
    "<br>To clear the screen between moves:\n",
    "\n",
    "    from IPython.display import clear_output\n",
    "    clear_output()\n",
    "    \n",
    "Note that clear_output() will only work in jupyter. To clear the screen in other IDEs, consider:\n",
    "\n",
    "    print('\\n'*100)\n",
    "    \n",
    "This scrolls the previous board up out of view. Now on to the program!"
   ]
  },
  {
   "cell_type": "markdown",
   "metadata": {},
   "source": [
    "**Step 1: Write a function that can print out a board. Set up your board as a list, where each index 1-9 corresponds with a number on a number pad, so you get a 3 by 3 board representation.**"
   ]
  },
  {
   "cell_type": "code",
   "execution_count": 79,
   "metadata": {
    "collapsed": true
   },
   "outputs": [],
   "source": [
    "from IPython.display import clear_output\n",
    "\n",
    "def display_board(board):\n",
    "    clear_output()\n",
    "    print(board[0],'|',board[1],'|',board[2])\n",
    "    print('---------')\n",
    "    print(board[3],'|',board[4],'|',board[5])\n",
    "    print('---------')\n",
    "    print(board[6],'|',board[7],'|',board[8])"
   ]
  },
  {
   "cell_type": "markdown",
   "metadata": {},
   "source": [
    "**TEST Step 1:** run your function on a test version of the board list, and make adjustments as necessary"
   ]
  },
  {
   "cell_type": "code",
   "execution_count": 84,
   "metadata": {
    "collapsed": true
   },
   "outputs": [
    {
     "name": "stdout",
     "output_type": "stream",
     "text": [
      "# | X | O\n",
      "---------\n",
      "X | O | X\n",
      "---------\n",
      "O | X | O\n"
     ]
    }
   ],
   "source": [
    "test_board = ['#','X','O','X','O','X','O','X','O','X']\n",
    "display_board(test_board)"
   ]
  },
  {
   "cell_type": "markdown",
   "metadata": {},
   "source": [
    "**Step 2: Write a function that can take in a player input and assign their marker as 'X' or 'O'. Think about using *while* loops to continually ask until you get a correct answer.**"
   ]
  },
  {
   "cell_type": "code",
   "execution_count": 54,
   "metadata": {
    "collapsed": true
   },
   "outputs": [],
   "source": [
    "# WHY DOESNT THIS WORK?\n",
    "# def player_input():\n",
    "#     player1_input = 'empty'\n",
    "#     # while (player1_input != 'X' or player1_input != 'O'):\n",
    "#     while not (player1_input == 'X' or player1_input == 'O'):\n",
    "#         clear_output()\n",
    "#         player1_input = input('what is your input X or O?').upper\n",
    "#         if not (player1_input == 'X' or player1_input == 'O'):\n",
    "#             # clear_output()\n",
    "#             print('Sorry incorrect choice')\n",
    "#     if player1_input == 'X':\n",
    "#         return ('X', 'O')\n",
    "#     else:\n",
    "#         return ('O', 'X')\n",
    "\n",
    "\n",
    "\n",
    "def player_input():\n",
    "    '''\n",
    "    output in form of tuple as (player1,player2) markers\n",
    "    tuple unpacking can then use these values\n",
    "    '''\n",
    "    marker = ''\n",
    "    \n",
    "    while not (marker == 'X' or marker == 'O'):\n",
    "        marker = input('Player 1: Do you want to be X or O? ').upper()\n",
    "        if not (marker == 'X' or marker == 'O'):\n",
    "            clear_output()\n",
    "            print('Sorry incorrect choice')\n",
    "\n",
    "    if marker == 'X':\n",
    "        return ('X', 'O')\n",
    "    else:\n",
    "        return ('O', 'X')\n",
    "    "
   ]
  },
  {
   "cell_type": "markdown",
   "metadata": {},
   "source": [
    "**TEST Step 2:** run the function to make sure it returns the desired output"
   ]
  },
  {
   "cell_type": "code",
   "execution_count": 55,
   "metadata": {
    "collapsed": true
   },
   "outputs": [
    {
     "name": "stdout",
     "output_type": "stream",
     "text": [
      "Sorry incorrect choice\n"
     ]
    },
    {
     "data": {
      "text/plain": [
       "('X', 'O')"
      ]
     },
     "execution_count": 55,
     "metadata": {},
     "output_type": "execute_result"
    }
   ],
   "source": [
    "player_input()"
   ]
  },
  {
   "cell_type": "markdown",
   "metadata": {},
   "source": [
    "**Step 3: Write a function that takes in the board list object, a marker ('X' or 'O'), and a desired position (number 1-9) and assigns it to the board.**"
   ]
  },
  {
   "cell_type": "code",
   "execution_count": 56,
   "metadata": {
    "collapsed": true
   },
   "outputs": [],
   "source": [
    "def place_marker(board, marker, position):\n",
    "    board[position] = marker\n",
    "    return board\n",
    "    "
   ]
  },
  {
   "cell_type": "markdown",
   "metadata": {},
   "source": [
    "**TEST Step 3:** run the place marker function using test parameters and display the modified board"
   ]
  },
  {
   "cell_type": "code",
   "execution_count": 57,
   "metadata": {
    "collapsed": true
   },
   "outputs": [
    {
     "name": "stdout",
     "output_type": "stream",
     "text": [
      "# | X | O\n",
      "---------\n",
      "X | O | X\n",
      "---------\n",
      "O | X | $\n"
     ]
    }
   ],
   "source": [
    "place_marker(test_board,'$',8)\n",
    "display_board(test_board)"
   ]
  },
  {
   "cell_type": "markdown",
   "metadata": {},
   "source": [
    "**Step 4: Write a function that takes in a board and a mark (X or O) and then checks to see if that mark has won. **"
   ]
  },
  {
   "cell_type": "code",
   "execution_count": 58,
   "metadata": {},
   "outputs": [
    {
     "data": {
      "text/plain": [
       "['X', 'X', 'X']"
      ]
     },
     "execution_count": 58,
     "metadata": {},
     "output_type": "execute_result"
    }
   ],
   "source": [
    "['X']*3"
   ]
  },
  {
   "cell_type": "code",
   "execution_count": 59,
   "metadata": {
    "collapsed": true
   },
   "outputs": [],
   "source": [
    "def win_check(board, mark):\n",
    "    three_marks = [mark]*3\n",
    "    # listwin1 = [board[3],board[4],board[5]]\n",
    "    # print(three_marks)\n",
    "    # print(listwin1)\n",
    "    \n",
    "    way_to_win_1 = [board[0],board[1],board[2]]\n",
    "    way_to_win_2 = [board[3],board[4],board[5]]\n",
    "    way_to_win_3 = [board[6],board[7],board[8]]\n",
    "    way_to_win_4 = [board[0],board[3],board[6]]\n",
    "    way_to_win_5 = [board[1],board[4],board[7]]\n",
    "    way_to_win_6 = [board[2],board[5],board[8]]\n",
    "    way_to_win_7 = [board[0],board[4],board[8]]\n",
    "    way_to_win_8 = [board[2],board[6],board[6]]\n",
    "    \n",
    "    return ((three_marks == way_to_win_1) or # down left\n",
    "        (three_marks == way_to_win_2) or  # down middle\n",
    "        (three_marks == way_to_win_3) or  # down right\n",
    "        (three_marks == way_to_win_4) or  # across top\n",
    "        (three_marks == way_to_win_5) or  # across middle\n",
    "        (three_marks == way_to_win_6) or  # across bottom\n",
    "        (three_marks == way_to_win_7) or  # upper left bottom right\n",
    "        (three_marks == way_to_win_8))  # upper right bottom left\n",
    "\n",
    "    \n"
   ]
  },
  {
   "cell_type": "markdown",
   "metadata": {},
   "source": [
    "**TEST Step 4:** run the win_check function against our test_board - it should return True"
   ]
  },
  {
   "cell_type": "code",
   "execution_count": 60,
   "metadata": {
    "collapsed": true
   },
   "outputs": [
    {
     "data": {
      "text/plain": [
       "False"
      ]
     },
     "execution_count": 60,
     "metadata": {},
     "output_type": "execute_result"
    }
   ],
   "source": [
    "win_check(test_board,'X')"
   ]
  },
  {
   "cell_type": "markdown",
   "metadata": {},
   "source": [
    "**Step 5: Write a function that uses the random module to randomly decide which player goes first. You may want to lookup random.randint() Return a string of which player went first.**"
   ]
  },
  {
   "cell_type": "code",
   "execution_count": 67,
   "metadata": {
    "collapsed": true
   },
   "outputs": [],
   "source": [
    "import random\n",
    "\n",
    "def choose_first():\n",
    "    if random.randint(1,2) == 1:\n",
    "        return 'Player 1'\n",
    "    else:\n",
    "        return 'Player 2'"
   ]
  },
  {
   "cell_type": "markdown",
   "metadata": {},
   "source": [
    "**Step 6: Write a function that returns a boolean indicating whether a space on the board is freely available.**"
   ]
  },
  {
   "cell_type": "code",
   "execution_count": 62,
   "metadata": {
    "collapsed": true
   },
   "outputs": [],
   "source": [
    "def space_check(board, position):\n",
    "    return board[position] == ' '\n"
   ]
  },
  {
   "cell_type": "markdown",
   "metadata": {},
   "source": [
    "**Step 7: Write a function that checks if the board is full and returns a boolean value. True if full, False otherwise.**"
   ]
  },
  {
   "cell_type": "code",
   "execution_count": 63,
   "metadata": {
    "collapsed": true
   },
   "outputs": [],
   "source": [
    "def full_board_check(board):\n",
    "    for i in range(1,10):\n",
    "        if space_check(board, i):\n",
    "            return False\n",
    "    # the board is completely full if we return true\n",
    "    return True"
   ]
  },
  {
   "cell_type": "markdown",
   "metadata": {},
   "source": [
    "**Step 8: Write a function that asks for a player's next position (as a number 1-9) and then uses the function from step 6 to check if it's a free position. If it is, then return the position for later use.**"
   ]
  },
  {
   "cell_type": "code",
   "execution_count": 85,
   "metadata": {
    "collapsed": true
   },
   "outputs": [],
   "source": [
    "def player_choice(board):\n",
    "    choice = 100\n",
    "    # while choice not in [0,1,2,3,4,5,6,7,8]:\n",
    "    #     choice = input(\"Choose one of the positions to mark: (0,1,2,3,4,5,6,7,8): \")\n",
    "\n",
    "    #     if choice not in [0,1,2,3,4,5,6,7,8]:\n",
    "    #         # THIS CLEARS THE CURRENT OUTPUT BELOW THE CELL\n",
    "    #         clear_output()\n",
    "    #         print(\"Sorry, but you did not choose a value in the correct range\")\n",
    "            \n",
    "    #     if space_check(board, choice): #if space open, rutrn position\n",
    "    #         return choice\n",
    "    '''\n",
    "    check 1) is it a valid space based on index?\n",
    "    check 2) is the space still available for this game?\n",
    "    '''\n",
    "    while choice not in [0,1,2,3,4,5,6,7,8] or not space_check(board, choice):\n",
    "        choice = int(input('Choose your next position: (0-8) '))\n",
    "    return choice\n",
    "        \n"
   ]
  },
  {
   "cell_type": "markdown",
   "metadata": {},
   "source": [
    "**Step 9: Write a function that asks the player if they want to play again and returns a boolean True if they do want to play again.**"
   ]
  },
  {
   "cell_type": "code",
   "execution_count": 65,
   "metadata": {
    "collapsed": true
   },
   "outputs": [],
   "source": [
    "def replay():\n",
    "    play_again = ''\n",
    "    \n",
    "    while not (play_again == 'Y' or play_again == 'N'):\n",
    "        play_again = input('Do you want to play again (Y or N)? ').upper()\n",
    "        if not (play_again == 'N' or play_again == 'Y'):\n",
    "            clear_output()\n",
    "            print('Sorry incorrect choice')\n",
    "\n",
    "    if play_again == 'Y':\n",
    "        return True\n",
    "    else:\n",
    "        return False"
   ]
  },
  {
   "cell_type": "markdown",
   "metadata": {
    "collapsed": true
   },
   "source": [
    "**Step 10: Here comes the hard part! Use while loops and the functions you've made to run the game!**"
   ]
  },
  {
   "cell_type": "code",
   "execution_count": 78,
   "metadata": {
    "collapsed": true
   },
   "outputs": [
    {
     "name": "stdout",
     "output_type": "stream",
     "text": [
      "Welcome to Tic Tac Toe!\n",
      "  |   |  \n",
      "---------\n",
      "  |   |  \n",
      "---------\n",
      "  |   |  \n",
      "Player 1 will go first.\n",
      "  |   |  \n",
      "---------\n",
      "  |   |  \n",
      "---------\n",
      "  |   |  \n",
      "X |   |  \n",
      "---------\n",
      "  |   |  \n",
      "---------\n",
      "  |   |  \n",
      "X | O |  \n",
      "---------\n",
      "  |   |  \n",
      "---------\n",
      "  |   |  \n",
      "X | O | X\n",
      "---------\n",
      "  |   |  \n",
      "---------\n",
      "  |   |  \n",
      "X | O | X\n",
      "---------\n",
      "O |   |  \n",
      "---------\n",
      "  |   |  \n",
      "X | O | X\n",
      "---------\n",
      "O | X |  \n",
      "---------\n",
      "  |   |  \n",
      "X | O | X\n",
      "---------\n",
      "O | X | O\n",
      "---------\n",
      "  |   |  \n",
      "X | O | X\n",
      "---------\n",
      "O | X | O\n",
      "---------\n",
      "  | X |  \n",
      "X | O | X\n",
      "---------\n",
      "O | X | O\n",
      "---------\n",
      "O | X |  \n",
      "X | O | X\n",
      "---------\n",
      "O | X | O\n",
      "---------\n",
      "O | X | X\n",
      "contgrats you won!\n",
      "X | O | X\n",
      "---------\n",
      "O | X | O\n",
      "---------\n",
      "O | X | X\n"
     ]
    },
    {
     "ename": "ValueError",
     "evalue": "invalid literal for int() with base 10: ''",
     "output_type": "error",
     "traceback": [
      "\u001b[0;31m---------------------------------------------------------------------------\u001b[0m",
      "\u001b[0;31mValueError\u001b[0m                                Traceback (most recent call last)",
      "Cell \u001b[0;32mIn[78], line 40\u001b[0m\n\u001b[1;32m     38\u001b[0m \u001b[38;5;66;03m# Player2's turn.\u001b[39;00m\n\u001b[1;32m     39\u001b[0m display_board(my_board)\n\u001b[0;32m---> 40\u001b[0m position \u001b[38;5;241m=\u001b[39m \u001b[43mplayer_choice\u001b[49m\u001b[43m(\u001b[49m\u001b[43mmy_board\u001b[49m\u001b[43m)\u001b[49m\n\u001b[1;32m     41\u001b[0m place_marker(my_board,player2_marker,position)\n\u001b[1;32m     43\u001b[0m \u001b[38;5;28;01mif\u001b[39;00m win_check(my_board,player2_marker): \u001b[38;5;66;03m#if you won\u001b[39;00m\n",
      "Cell \u001b[0;32mIn[77], line 14\u001b[0m, in \u001b[0;36mplayer_choice\u001b[0;34m(board)\u001b[0m\n\u001b[1;32m      3\u001b[0m \u001b[38;5;66;03m# while choice not in [0,1,2,3,4,5,6,7,8]:\u001b[39;00m\n\u001b[1;32m      4\u001b[0m \u001b[38;5;66;03m#     choice = input(\"Choose one of the positions to mark: (0,1,2,3,4,5,6,7,8): \")\u001b[39;00m\n\u001b[1;32m      5\u001b[0m \n\u001b[0;32m   (...)\u001b[0m\n\u001b[1;32m     11\u001b[0m \u001b[38;5;66;03m#     if space_check(board, choice): #if space open, rutrn position\u001b[39;00m\n\u001b[1;32m     12\u001b[0m \u001b[38;5;66;03m#         return choice\u001b[39;00m\n\u001b[1;32m     13\u001b[0m \u001b[38;5;28;01mwhile\u001b[39;00m choice \u001b[38;5;129;01mnot\u001b[39;00m \u001b[38;5;129;01min\u001b[39;00m [\u001b[38;5;241m0\u001b[39m,\u001b[38;5;241m1\u001b[39m,\u001b[38;5;241m2\u001b[39m,\u001b[38;5;241m3\u001b[39m,\u001b[38;5;241m4\u001b[39m,\u001b[38;5;241m5\u001b[39m,\u001b[38;5;241m6\u001b[39m,\u001b[38;5;241m7\u001b[39m,\u001b[38;5;241m8\u001b[39m] \u001b[38;5;129;01mor\u001b[39;00m \u001b[38;5;129;01mnot\u001b[39;00m space_check(board, choice):\n\u001b[0;32m---> 14\u001b[0m     choice \u001b[38;5;241m=\u001b[39m \u001b[38;5;28;43mint\u001b[39;49m\u001b[43m(\u001b[49m\u001b[38;5;28;43minput\u001b[39;49m\u001b[43m(\u001b[49m\u001b[38;5;124;43m'\u001b[39;49m\u001b[38;5;124;43mChoose your next position: (0-8) \u001b[39;49m\u001b[38;5;124;43m'\u001b[39;49m\u001b[43m)\u001b[49m\u001b[43m)\u001b[49m\n\u001b[1;32m     15\u001b[0m \u001b[38;5;28;01mreturn\u001b[39;00m choice\n",
      "\u001b[0;31mValueError\u001b[0m: invalid literal for int() with base 10: ''"
     ]
    }
   ],
   "source": [
    "print('Welcome to Tic Tac Toe!')\n",
    "\n",
    "#keep the game running\n",
    "while True:\n",
    "    # Set the game up here\n",
    "    #     board, who goes first, ready to play, game logic\n",
    "    player1_marker, player2_marker = player_input() #who do you want to be\n",
    "    # my_board = ['0','1','2','3','4','5','6','7','8']\n",
    "    my_board = [' '] * 9\n",
    "    turn = choose_first()\n",
    "    display_board(my_board)\n",
    "    print(turn + ' will go first.')\n",
    "    # game_on=True\n",
    "    play_game = input('Are you ready to play? Enter Yes or No.')\n",
    "    \n",
    "    if play_game.lower()[0] == 'y':\n",
    "        game_on = True\n",
    "    else:\n",
    "        game_on = False\n",
    "\n",
    "# while game is still active/true\n",
    "    while game_on:\n",
    "        #Player 1 Turn\n",
    "        #find current board state\n",
    "        display_board(my_board)\n",
    "        #select a spot to mark\n",
    "        position = player_choice(my_board)\n",
    "        #mark\n",
    "        place_marker(my_board,player1_marker,position)\n",
    "        #check for a winner\n",
    "        #   if won\n",
    "        if win_check(my_board,player1_marker): #if you won\n",
    "            display_board(my_board)\n",
    "            print('contgrats you won!')\n",
    "            game_on = False\n",
    "        #  if not won yet\n",
    "        else:                                  #if not yet won\n",
    "            if full_board_check(my_board):     #if the board happens to be full - draw\n",
    "                display_board(my_board)\n",
    "                print('the game is a draw!')\n",
    "                break\n",
    "            else:\n",
    "                turn = 'Player 2'           #else keep playing and move on to next player\n",
    "\n",
    "        # Player2's turn. (same logic as above)\n",
    "        display_board(my_board)\n",
    "        position = player_choice(my_board)\n",
    "        place_marker(my_board,player2_marker,position)\n",
    "\n",
    "        if win_check(my_board,player2_marker): #if you won\n",
    "            display_board(my_board)\n",
    "            print('contgrats you won!')\n",
    "            game_on = False\n",
    "        else:                                  #if not yet won\n",
    "            if full_board_check(my_board):     #if the board happens to be full - draw\n",
    "                display_board(my_board)\n",
    "                print('the game is a draw!')\n",
    "                break\n",
    "            else:\n",
    "                turn = 'Player 1'           #else keep playing and move on to next player\n",
    "#break out of the game if won or draw\n",
    "#ask if we wish to replay         \n",
    "    if not replay():\n",
    "        break"
   ]
  },
  {
   "cell_type": "markdown",
   "metadata": {
    "collapsed": true
   },
   "source": [
    "## Good Job!"
   ]
  }
 ],
 "metadata": {
  "kernelspec": {
   "display_name": "Python 3",
   "language": "python",
   "name": "python3"
  },
  "language_info": {
   "codemirror_mode": {
    "name": "ipython",
    "version": 3
   },
   "file_extension": ".py",
   "mimetype": "text/x-python",
   "name": "python",
   "nbconvert_exporter": "python",
   "pygments_lexer": "ipython3",
   "version": "3.11.7"
  }
 },
 "nbformat": 4,
 "nbformat_minor": 1
}
